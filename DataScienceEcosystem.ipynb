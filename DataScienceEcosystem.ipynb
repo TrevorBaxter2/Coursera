{
 "cells": [
  {
   "cell_type": "markdown",
   "id": "9e7ac971-25f0-4598-8526-27355eebe8bb",
   "metadata": {},
   "source": [
    "# Data Science Tools and Ecosystem\n"
   ]
  },
  {
   "cell_type": "markdown",
   "id": "13498984-7026-48dd-9df6-17042a256f5b",
   "metadata": {},
   "source": [
    "In this notebook, Data Science Tools and Ecosystem are summarized."
   ]
  },
  {
   "cell_type": "markdown",
   "id": "d469a798-ef29-4395-98f3-4a057aa35c72",
   "metadata": {},
   "source": [
    "<b>Objective</b>\n",
    "- Popular languages for Data Science\n",
    "- Code Management\n",
    "- Data Managemement"
   ]
  },
  {
   "cell_type": "markdown",
   "id": "a8feae33-78e6-4fb1-b76c-6e451c1bd4eb",
   "metadata": {},
   "source": [
    "## Author\n",
    "T Baxter"
   ]
  },
  {
   "cell_type": "markdown",
   "id": "f33d9251-1b16-41a3-b857-bbcc9c082dc8",
   "metadata": {},
   "source": [
    "Some of the popular languages Data Scientists use are:\n",
    "1. Python\n",
    "2. R\n",
    "3. Scala\n"
   ]
  },
  {
   "cell_type": "markdown",
   "id": "7030b04e-fe93-43b1-87f4-52a72b0c0c5e",
   "metadata": {},
   "source": [
    "Some of the commonly used libraries used by Data Scientists are:\n",
    "\n",
    "1. Numpy\n",
    "2. Tensorflow\n",
    "3. Pandas\n"
   ]
  },
  {
   "cell_type": "markdown",
   "id": "3f8bb6a9-1c13-41a9-a45b-6d6a594925b9",
   "metadata": {},
   "source": [
    "# Data Science Tools\n",
    "\n",
    "1. JupyterLab\n",
    "2. JupyterLite\n",
    "3. Jupyter Notebook"
   ]
  },
  {
   "cell_type": "markdown",
   "id": "2f06fea5-6ebf-4591-bceb-3696e10a5d7f",
   "metadata": {},
   "source": [
    "### Here are a few examples of arithmetic expressions "
   ]
  },
  {
   "cell_type": "code",
   "execution_count": 1,
   "id": "09750e85-1b8e-48c7-8872-95763d0dbb31",
   "metadata": {
    "tags": []
   },
   "outputs": [
    {
     "data": {
      "text/plain": [
       "17"
      ]
     },
     "execution_count": 1,
     "metadata": {},
     "output_type": "execute_result"
    }
   ],
   "source": [
    "# This is a simple arithmetic expression to multiple then add integters\n",
    "\n",
    "(3*4)+5"
   ]
  },
  {
   "cell_type": "code",
   "execution_count": 2,
   "id": "0c0828fd-1f54-4dc0-923b-12d86ad5a6f8",
   "metadata": {
    "tags": []
   },
   "outputs": [
    {
     "data": {
      "text/plain": [
       "3.3333333333333335"
      ]
     },
     "execution_count": 2,
     "metadata": {},
     "output_type": "execute_result"
    }
   ],
   "source": [
    "# This will convert 200 minutes into hours by dividing by 60\n",
    "\n",
    "200/60"
   ]
  },
  {
   "cell_type": "code",
   "execution_count": null,
   "id": "e05cda0a-db2e-4cbb-9557-c04b449c769f",
   "metadata": {},
   "outputs": [],
   "source": []
  }
 ],
 "metadata": {
  "kernelspec": {
   "display_name": "Python",
   "language": "python",
   "name": "conda-env-python-py"
  },
  "language_info": {
   "codemirror_mode": {
    "name": "ipython",
    "version": 3
   },
   "file_extension": ".py",
   "mimetype": "text/x-python",
   "name": "python",
   "nbconvert_exporter": "python",
   "pygments_lexer": "ipython3",
   "version": "3.7.12"
  }
 },
 "nbformat": 4,
 "nbformat_minor": 5
}
